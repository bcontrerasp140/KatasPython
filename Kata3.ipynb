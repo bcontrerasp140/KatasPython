{
 "cells": [
  {
   "cell_type": "markdown",
   "metadata": {},
   "source": [
    "# Ejercicio - Escribir declaraciones if, else, y elif\n",
    "Lógica condicional que imprima una advertencia si un asteroide se acerca a la Tierra demasiado rápido\n",
    "\n",
    "# Problema No. 1\n",
    "Un asteroide se acerca, y viaja a una velocidad de 49 km/s."
   ]
  },
  {
   "cell_type": "code",
   "execution_count": 2,
   "metadata": {},
   "outputs": [
    {
     "name": "stdout",
     "output_type": "stream",
     "text": [
      "Alerta un asteroide se acerca a una velocidad de 49 km/s\n"
     ]
    }
   ],
   "source": [
    "a = 49\n",
    "if (a > 25):\n",
    "    print(\"Alerta, un asteroide se acerca a una velocidad de\", str(a), \"km/s\")\n",
    "else:\n",
    "    print(\"No existe peligro, continua tu viaje\")"
   ]
  },
  {
   "cell_type": "markdown",
   "metadata": {},
   "source": [
    "# Problema No. 2\n",
    "Si un asteroide entra en la atmósfera de la Tierra a una velocidad mayor o igual a 20 km/s, a veces produce un rayo de luz que se puede ver desde la Tierra"
   ]
  },
  {
   "cell_type": "code",
   "execution_count": 4,
   "metadata": {},
   "outputs": [
    {
     "name": "stdout",
     "output_type": "stream",
     "text": [
      "Mira el cielo, un asteroide puede estar cerca\n"
     ]
    }
   ],
   "source": [
    "a = 20\n",
    "if a == 20:\n",
    "    print(\"Mira el cielo, un asteroide puede estar cerca\")\n",
    "elif a > 20:\n",
    "    print(\"Mira el cielo, un asteroide puede estar cerca\")\n",
    "else:\n",
    "    print(\"Continua tu dia :)\")"
   ]
  },
  {
   "cell_type": "markdown",
   "metadata": {},
   "source": [
    "# Ejercicio: Uso de operadores and y or\n",
    "# Problema No. 3"
   ]
  },
  {
   "cell_type": "code",
   "execution_count": 8,
   "metadata": {},
   "outputs": [
    {
     "name": "stdout",
     "output_type": "stream",
     "text": [
      "Alerta, un asteroide de 26 se acerca a una velocidad de 26 km/s\n"
     ]
    }
   ],
   "source": [
    "tamanio=26\n",
    "velocidad=26\n",
    "if (velocidad > 25 and tamanio > 25):\n",
    "    print(\"Alerta, un asteroide de\", str(tamanio), \"se acerca a una velocidad de\", str(velocidad), \"km/s\")\n",
    "elif (velocidad >= 20):\n",
    "    print(\"Mira el cielo, un asteroide puede estar cerca\")\n",
    "elif (tamanio < 25 or velocidad < 20):\n",
    "    print(\"Continua tu dia :)\")"
   ]
  }
 ],
 "metadata": {
  "interpreter": {
   "hash": "63fd5069d213b44bf678585dea6b12cceca9941eaf7f819626cde1f2670de90d"
  },
  "kernelspec": {
   "display_name": "Python 3.9.7 64-bit",
   "language": "python",
   "name": "python3"
  },
  "language_info": {
   "codemirror_mode": {
    "name": "ipython",
    "version": 3
   },
   "file_extension": ".py",
   "mimetype": "text/x-python",
   "name": "python",
   "nbconvert_exporter": "python",
   "pygments_lexer": "ipython3",
   "version": "3.9.7"
  },
  "orig_nbformat": 4
 },
 "nbformat": 4,
 "nbformat_minor": 2
}
