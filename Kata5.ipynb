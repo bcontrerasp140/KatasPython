{
 "cells": [
  {
   "cell_type": "markdown",
   "metadata": {},
   "source": [
    "# Ejercicio1 - Utilizar operadores aritméticos\n"
   ]
  },
  {
   "cell_type": "code",
   "execution_count": 11,
   "metadata": {},
   "outputs": [
    {
     "name": "stdout",
     "output_type": "stream",
     "text": [
      "La distancia en km es 628949330\n",
      "La distancia en mi es 390577533.93\n"
     ]
    }
   ],
   "source": [
    "tierra=149597870\n",
    "jupiter=778547200\n",
    "\n",
    "distancia=jupiter-tierra\n",
    "print(\"La distancia en km es\", distancia)\n",
    "print(\"La distancia en mi es\", distancia*0.621)"
   ]
  },
  {
   "cell_type": "markdown",
   "metadata": {},
   "source": [
    "# Ejercicio 2: convierte cadenas en números y usa valores absolutos"
   ]
  },
  {
   "cell_type": "code",
   "execution_count": null,
   "metadata": {},
   "outputs": [],
   "source": [
    "p_1= input('Introduce la distancia (en km) del sol del planeta 1')\n",
    "p_2= input('Introduce la distancia (en km) del sol del planeta 2')\n",
    "p_1= int(p_1)\n",
    "p_2= int(p_2)\n",
    "distancia=p_2-p_1\n",
    "print(\"La distancia en km es\", distancia)\n",
    "print(\"La distancia en mi es\", abs(distancia*0.621))"
   ]
  }
 ],
 "metadata": {
  "interpreter": {
   "hash": "63fd5069d213b44bf678585dea6b12cceca9941eaf7f819626cde1f2670de90d"
  },
  "kernelspec": {
   "display_name": "Python 3.9.7 64-bit",
   "language": "python",
   "name": "python3"
  },
  "language_info": {
   "codemirror_mode": {
    "name": "ipython",
    "version": 3
   },
   "file_extension": ".py",
   "mimetype": "text/x-python",
   "name": "python",
   "nbconvert_exporter": "python",
   "pygments_lexer": "ipython3",
   "version": "3.9.7"
  },
  "orig_nbformat": 4
 },
 "nbformat": 4,
 "nbformat_minor": 2
}
