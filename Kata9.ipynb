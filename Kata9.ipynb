{
 "cells": [
  {
   "cell_type": "markdown",
   "metadata": {},
   "source": [
    "# Ejercicio 1: Trabajar con argumentos en funciones"
   ]
  },
  {
   "cell_type": "code",
   "execution_count": 6,
   "metadata": {},
   "outputs": [
    {
     "name": "stdout",
     "output_type": "stream",
     "text": [
      "Reporte de Combustible\n",
      "    Promedio en tanques: 21.666666666666668 \n",
      "    Tanque 1: 10\n",
      "    Tanque 2: 20 \n",
      "    Tanque 3: 35 \n",
      "    \n"
     ]
    }
   ],
   "source": [
    "def promedio(valores):\n",
    "    p=0\n",
    "    for v in valores:\n",
    "        p+=v\n",
    "    p/=3\n",
    "    return p\n",
    "\n",
    "def reporte(valores):\n",
    "    r = f\"\"\"Reporte de Combustible\n",
    "    Promedio en tanques: {promedio(valores)} \n",
    "    Tanque 1: {valores[0]}\n",
    "    Tanque 2: {valores[1]} \n",
    "    Tanque 3: {valores[2]} \n",
    "    \"\"\"\n",
    "    return r\n",
    "\n",
    "print(reporte([10, 20, 35]))"
   ]
  },
  {
   "cell_type": "markdown",
   "metadata": {},
   "source": [
    "# Ejercicio 2: Trabajo con argumentos de palabra clave"
   ]
  },
  {
   "cell_type": "code",
   "execution_count": null,
   "metadata": {},
   "outputs": [],
   "source": [
    "\n",
    "def reporte_mision1(prelanzamiento, vuelo, destino, tExterno, tPrincipal):\n",
    "    return f\"\"\"\n",
    "    Destino: {destino}\n",
    "    Tiempo total: {prelanzamiento + vuelo} minutos\n",
    "    Combustible total: {tExterno + tPrincipal} litros\n",
    "    \"\"\"\n",
    "\n",
    "print(reporte_mision1(14, 51, \"Venus\", 10000, 500000))"
   ]
  },
  {
   "cell_type": "code",
   "execution_count": null,
   "metadata": {},
   "outputs": [],
   "source": [
    "def reporte_mision2(destino, *tiempo, **tanques):\n",
    "    return f\"\"\"\n",
    "    Destino: {destino}\n",
    "    Tiempo total: {sum(tiempo)} minutos\n",
    "    Combustible total: {sum(tanques.values())}\n",
    "    \"\"\"\n",
    "\n",
    "print(reporte_mision2(\"Venus\", 10, 15, 51, principal=500000, externo=10000))"
   ]
  },
  {
   "cell_type": "code",
   "execution_count": 16,
   "metadata": {},
   "outputs": [
    {
     "name": "stdout",
     "output_type": "stream",
     "text": [
      "\n",
      "    Destino: Venus\n",
      "    Tiempo total: 76 minutos\n",
      "    Combustible total: 510000\n",
      "    principal tiene 500000 L de combistible\n",
      "externo tiene 10000 L de combistible\n",
      "\n"
     ]
    }
   ],
   "source": [
    "def reporte_tanques(valores):\n",
    "    r=\"\"\n",
    "    for n,v in valores:\n",
    "      r+=f\"{n} tiene {v} L de combistible\\n\"  \n",
    "    return r\n",
    "def reporte_mision3(destino, *tiempo, **tanques):\n",
    "    return f\"\"\"\n",
    "    Destino: {destino}\n",
    "    Tiempo total: {sum(tiempo)} minutos\n",
    "    Combustible total: {sum(tanques.values())}\n",
    "    \"\"\" + reporte_tanques(tanques.items())\n",
    "\n",
    "print(reporte_mision3(\"Venus\", 10, 15, 51, principal=500000, externo=10000))"
   ]
  }
 ],
 "metadata": {
  "interpreter": {
   "hash": "63fd5069d213b44bf678585dea6b12cceca9941eaf7f819626cde1f2670de90d"
  },
  "kernelspec": {
   "display_name": "Python 3.9.7 64-bit",
   "language": "python",
   "name": "python3"
  },
  "language_info": {
   "codemirror_mode": {
    "name": "ipython",
    "version": 3
   },
   "file_extension": ".py",
   "mimetype": "text/x-python",
   "name": "python",
   "nbconvert_exporter": "python",
   "pygments_lexer": "ipython3",
   "version": "3.9.7"
  },
  "orig_nbformat": 4
 },
 "nbformat": 4,
 "nbformat_minor": 2
}
